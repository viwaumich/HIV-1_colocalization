{
  "cells": [
    {
      "cell_type": "code",
      "source": [
        "install.packages(\"tidyverse\")"
      ],
      "metadata": {
        "colab": {
          "base_uri": "https://localhost:8080/"
        },
        "id": "fTPT757kyXtl",
        "outputId": "25f8e70e-ec47-4973-d652-8aa656d97d21"
      },
      "execution_count": 1,
      "outputs": [
        {
          "output_type": "stream",
          "name": "stderr",
          "text": [
            "Installing package into ‘/usr/local/lib/R/site-library’\n",
            "(as ‘lib’ is unspecified)\n",
            "\n",
            "also installing the dependencies ‘textshaping’, ‘conflicted’, ‘jsonlite’, ‘ragg’, ‘stringr’\n",
            "\n",
            "\n",
            "Warning message in install.packages(\"tidyverse\"):\n",
            "“installation of package ‘textshaping’ had non-zero exit status”\n",
            "Warning message in install.packages(\"tidyverse\"):\n",
            "“installation of package ‘ragg’ had non-zero exit status”\n",
            "Warning message in install.packages(\"tidyverse\"):\n",
            "“installation of package ‘tidyverse’ had non-zero exit status”\n"
          ]
        }
      ]
    },
    {
      "cell_type": "code",
      "source": [
        "library(tidyverse)"
      ],
      "metadata": {
        "id": "aULyInhMT0Mv",
        "colab": {
          "base_uri": "https://localhost:8080/"
        },
        "outputId": "e315b4fc-34aa-4c6b-bdf5-2520859416d0"
      },
      "execution_count": 2,
      "outputs": [
        {
          "output_type": "stream",
          "name": "stderr",
          "text": [
            "── \u001b[1mAttaching packages\u001b[22m ─────────────────────────────────────── tidyverse 1.3.1 ──\n",
            "\n",
            "\u001b[32m✔\u001b[39m \u001b[34mggplot2\u001b[39m 3.4.2     \u001b[32m✔\u001b[39m \u001b[34mpurrr  \u001b[39m 1.0.1\n",
            "\u001b[32m✔\u001b[39m \u001b[34mtibble \u001b[39m 3.2.1     \u001b[32m✔\u001b[39m \u001b[34mdplyr  \u001b[39m 1.1.1\n",
            "\u001b[32m✔\u001b[39m \u001b[34mtidyr  \u001b[39m 1.3.0     \u001b[32m✔\u001b[39m \u001b[34mstringr\u001b[39m 1.5.0\n",
            "\u001b[32m✔\u001b[39m \u001b[34mreadr  \u001b[39m 2.1.4     \u001b[32m✔\u001b[39m \u001b[34mforcats\u001b[39m 1.0.0\n",
            "\n",
            "── \u001b[1mConflicts\u001b[22m ────────────────────────────────────────── tidyverse_conflicts() ──\n",
            "\u001b[31m✖\u001b[39m \u001b[34mdplyr\u001b[39m::\u001b[32mfilter()\u001b[39m masks \u001b[34mstats\u001b[39m::filter()\n",
            "\u001b[31m✖\u001b[39m \u001b[34mdplyr\u001b[39m::\u001b[32mlag()\u001b[39m    masks \u001b[34mstats\u001b[39m::lag()\n",
            "\n"
          ]
        }
      ]
    },
    {
      "cell_type": "code",
      "source": [
        "val = 0\n",
        "distance <- function(x1, x2, y1, y2){\n",
        "  val = sqrt((x1-x2)^2+(y1-y2)^2)\n",
        "  val\n",
        "}"
      ],
      "metadata": {
        "id": "iUk9Pe3907qt"
      },
      "execution_count": 3,
      "outputs": []
    },
    {
      "cell_type": "code",
      "source": [
        "# distance between (1,3) and (2,4)\n",
        "distance(1,2,3,4)\n",
        "\n",
        "#double check\n",
        "sqrt((2-1)^2+(4-3)^2)"
      ],
      "metadata": {
        "colab": {
          "base_uri": "https://localhost:8080/",
          "height": 52
        },
        "id": "cx25nDRs11_Q",
        "outputId": "686a2972-38e4-4a6b-f30e-9cdec3c58cc8"
      },
      "execution_count": 4,
      "outputs": [
        {
          "output_type": "display_data",
          "data": {
            "text/html": [
              "1.4142135623731"
            ],
            "text/markdown": "1.4142135623731",
            "text/latex": "1.4142135623731",
            "text/plain": [
              "[1] 1.414214"
            ]
          },
          "metadata": {}
        },
        {
          "output_type": "display_data",
          "data": {
            "text/html": [
              "1.4142135623731"
            ],
            "text/markdown": "1.4142135623731",
            "text/latex": "1.4142135623731",
            "text/plain": [
              "[1] 1.414214"
            ]
          },
          "metadata": {}
        }
      ]
    },
    {
      "cell_type": "code",
      "source": [
        "install.packages(\"class\")\n",
        "library(class)"
      ],
      "metadata": {
        "colab": {
          "base_uri": "https://localhost:8080/"
        },
        "id": "6uoHTyNZo1S6",
        "outputId": "28ab4238-3cf9-4f0c-e4e7-eea716f4ec8d"
      },
      "execution_count": 11,
      "outputs": [
        {
          "output_type": "stream",
          "name": "stderr",
          "text": [
            "Installing package into ‘/usr/local/lib/R/site-library’\n",
            "(as ‘lib’ is unspecified)\n",
            "\n"
          ]
        }
      ]
    },
    {
      "cell_type": "code",
      "source": [
        "data(\"iris\")"
      ],
      "metadata": {
        "id": "LeS5bvEiqTxq"
      },
      "execution_count": 26,
      "outputs": []
    },
    {
      "cell_type": "code",
      "source": [
        "iris %>%\n",
        "  distinct(Species)"
      ],
      "metadata": {
        "colab": {
          "base_uri": "https://localhost:8080/",
          "height": 227
        },
        "id": "x-b_WKc9tyo5",
        "outputId": "13dc12ad-b637-4fec-a8b5-da2f6aba7122"
      },
      "execution_count": 57,
      "outputs": [
        {
          "output_type": "display_data",
          "data": {
            "text/html": [
              "<table class=\"dataframe\">\n",
              "<caption>A data.frame: 3 × 1</caption>\n",
              "<thead>\n",
              "\t<tr><th scope=col>Species</th></tr>\n",
              "\t<tr><th scope=col>&lt;fct&gt;</th></tr>\n",
              "</thead>\n",
              "<tbody>\n",
              "\t<tr><td>setosa    </td></tr>\n",
              "\t<tr><td>versicolor</td></tr>\n",
              "\t<tr><td>virginica </td></tr>\n",
              "</tbody>\n",
              "</table>\n"
            ],
            "text/markdown": "\nA data.frame: 3 × 1\n\n| Species &lt;fct&gt; |\n|---|\n| setosa     |\n| versicolor |\n| virginica  |\n\n",
            "text/latex": "A data.frame: 3 × 1\n\\begin{tabular}{l}\n Species\\\\\n <fct>\\\\\n\\hline\n\t setosa    \\\\\n\t versicolor\\\\\n\t virginica \\\\\n\\end{tabular}\n",
            "text/plain": [
              "  Species   \n",
              "1 setosa    \n",
              "2 versicolor\n",
              "3 virginica "
            ]
          },
          "metadata": {}
        }
      ]
    },
    {
      "cell_type": "code",
      "source": [
        "iris$Species <- factor(iris$Species, levels = c(\"setosa\", \"versicolor\", \"virginica\"), labels = c(\"Setosa\", \"Versicolor\", \"Virginica\"))"
      ],
      "metadata": {
        "id": "s4tqfZMAtrrI"
      },
      "execution_count": 58,
      "outputs": []
    },
    {
      "cell_type": "code",
      "source": [
        "normalize <- function(x) {\n",
        "return ((x - min(x)) / (max(x) - min(x))) }"
      ],
      "metadata": {
        "id": "UwMg0dtVqqkf"
      },
      "execution_count": 59,
      "outputs": []
    },
    {
      "cell_type": "code",
      "source": [
        "iris_n <- as.data.frame(lapply(iris[0:4], normalize))"
      ],
      "metadata": {
        "id": "DiLZc62qqTKw"
      },
      "execution_count": 60,
      "outputs": []
    },
    {
      "cell_type": "code",
      "source": [
        "summary(iris_n$Petal.Width) #this verifies that the data is normalized"
      ],
      "metadata": {
        "colab": {
          "base_uri": "https://localhost:8080/",
          "height": 54
        },
        "id": "QZqMHf5OqkuS",
        "outputId": "30dc9d38-a278-4aa0-b03d-61a3e17896d2"
      },
      "execution_count": 61,
      "outputs": [
        {
          "output_type": "display_data",
          "data": {
            "text/plain": [
              "   Min. 1st Qu.  Median    Mean 3rd Qu.    Max. \n",
              "0.00000 0.08333 0.50000 0.45806 0.70833 1.00000 "
            ]
          },
          "metadata": {}
        }
      ]
    },
    {
      "cell_type": "code",
      "source": [
        "nrow(iris) # to find the total number of observations in a dataset"
      ],
      "metadata": {
        "colab": {
          "base_uri": "https://localhost:8080/",
          "height": 34
        },
        "id": "pz3mWIsksCbn",
        "outputId": "246622dc-3421-45ef-8335-de14aa654df2"
      },
      "execution_count": 62,
      "outputs": [
        {
          "output_type": "display_data",
          "data": {
            "text/html": [
              "150"
            ],
            "text/markdown": "150",
            "text/latex": "150",
            "text/plain": [
              "[1] 150"
            ]
          },
          "metadata": {}
        }
      ]
    },
    {
      "cell_type": "code",
      "source": [
        "# For knn testing, a ratio of training to testing for machine learning should be around 70:30\n",
        "iris_train <- iris_n[1:105,]\n",
        "iris_test <- iris_n[106:150,]"
      ],
      "metadata": {
        "id": "sSucim3brWt7"
      },
      "execution_count": 63,
      "outputs": []
    },
    {
      "cell_type": "code",
      "source": [
        "iris1 <- iris %>%\n",
        "  arrange(desc(Sepal.Length))"
      ],
      "metadata": {
        "id": "tr_Yf6SuuYUO"
      },
      "execution_count": 71,
      "outputs": []
    },
    {
      "cell_type": "code",
      "source": [
        "iris_train_labels <- iris1[1:105, 5]\n",
        "iris_test_labels <- iris1[106:150, 5]"
      ],
      "metadata": {
        "id": "r5121OJLr3mT"
      },
      "execution_count": 72,
      "outputs": []
    },
    {
      "cell_type": "code",
      "source": [
        "iris_test_pred <- knn(train = iris_train, test = iris_test,cl = iris_train_labels, k=12) #guideline for k is the sqrt of the # of observations"
      ],
      "metadata": {
        "id": "6dFfOB1iqBro"
      },
      "execution_count": 73,
      "outputs": []
    },
    {
      "cell_type": "code",
      "source": [
        "install.packages(\"gmodels\")\n",
        "library(gmodels)"
      ],
      "metadata": {
        "colab": {
          "base_uri": "https://localhost:8080/"
        },
        "id": "3TsmypvmtANH",
        "outputId": "0cce8502-facb-4bb9-9ebc-6e37ce997614"
      },
      "execution_count": 66,
      "outputs": [
        {
          "output_type": "stream",
          "name": "stderr",
          "text": [
            "Installing package into ‘/usr/local/lib/R/site-library’\n",
            "(as ‘lib’ is unspecified)\n",
            "\n"
          ]
        }
      ]
    },
    {
      "cell_type": "code",
      "source": [
        "CrossTable(x = iris_test_labels, y = iris_test_labels, prop.chisq = FALSE)"
      ],
      "metadata": {
        "colab": {
          "base_uri": "https://localhost:8080/"
        },
        "id": "fjgrIa9KtCMB",
        "outputId": "4c61f45b-c069-4724-d680-03fd7d945a45"
      },
      "execution_count": 74,
      "outputs": [
        {
          "output_type": "stream",
          "name": "stdout",
          "text": [
            "\n",
            " \n",
            "   Cell Contents\n",
            "|-------------------------|\n",
            "|                       N |\n",
            "|           N / Row Total |\n",
            "|           N / Col Total |\n",
            "|         N / Table Total |\n",
            "|-------------------------|\n",
            "\n",
            " \n",
            "Total Observations in Table:  45 \n",
            "\n",
            " \n",
            "                 | iris_test_labels \n",
            "iris_test_labels |     Setosa | Versicolor |  Virginica |  Row Total | \n",
            "-----------------|------------|------------|------------|------------|\n",
            "          Setosa |         39 |          0 |          0 |         39 | \n",
            "                 |      1.000 |      0.000 |      0.000 |      0.867 | \n",
            "                 |      1.000 |      0.000 |      0.000 |            | \n",
            "                 |      0.867 |      0.000 |      0.000 |            | \n",
            "-----------------|------------|------------|------------|------------|\n",
            "      Versicolor |          0 |          5 |          0 |          5 | \n",
            "                 |      0.000 |      1.000 |      0.000 |      0.111 | \n",
            "                 |      0.000 |      1.000 |      0.000 |            | \n",
            "                 |      0.000 |      0.111 |      0.000 |            | \n",
            "-----------------|------------|------------|------------|------------|\n",
            "       Virginica |          0 |          0 |          1 |          1 | \n",
            "                 |      0.000 |      0.000 |      1.000 |      0.022 | \n",
            "                 |      0.000 |      0.000 |      1.000 |            | \n",
            "                 |      0.000 |      0.000 |      0.022 |            | \n",
            "-----------------|------------|------------|------------|------------|\n",
            "    Column Total |         39 |          5 |          1 |         45 | \n",
            "                 |      0.867 |      0.111 |      0.022 |            | \n",
            "-----------------|------------|------------|------------|------------|\n",
            "\n",
            " \n"
          ]
        }
      ]
    }
  ],
  "metadata": {
    "kernelspec": {
      "display_name": "R",
      "language": "R",
      "name": "ir"
    },
    "language_info": {
      "codemirror_mode": "r",
      "file_extension": ".r",
      "mimetype": "text/x-r-source",
      "name": "R",
      "pygments_lexer": "r",
      "version": "4.2.2"
    },
    "colab": {
      "provenance": []
    }
  },
  "nbformat": 4,
  "nbformat_minor": 0
}