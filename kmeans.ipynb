{
  "nbformat": 4,
  "nbformat_minor": 0,
  "metadata": {
    "colab": {
      "provenance": [],
      "authorship_tag": "ABX9TyPaboucFIuCMH/dS4QaBgCW",
      "include_colab_link": true
    },
    "kernelspec": {
      "name": "ir",
      "display_name": "R"
    },
    "language_info": {
      "name": "R"
    }
  },
  "cells": [
    {
      "cell_type": "markdown",
      "metadata": {
        "id": "view-in-github",
        "colab_type": "text"
      },
      "source": [
        "<a href=\"https://colab.research.google.com/github/viwaumich/research/blob/main/kmeans.ipynb\" target=\"_parent\"><img src=\"https://colab.research.google.com/assets/colab-badge.svg\" alt=\"Open In Colab\"/></a>"
      ]
    },
    {
      "cell_type": "code",
      "execution_count": 1,
      "metadata": {
        "colab": {
          "base_uri": "https://localhost:8080/"
        },
        "id": "RVvRZsn1qOQl",
        "outputId": "cd3f022c-71c0-4c49-cd4a-4deffb7ff25b"
      },
      "outputs": [
        {
          "output_type": "stream",
          "name": "stderr",
          "text": [
            "Installing package into ‘/usr/local/lib/R/site-library’\n",
            "(as ‘lib’ is unspecified)\n",
            "\n",
            "also installing the dependencies ‘textshaping’, ‘conflicted’, ‘jsonlite’, ‘ragg’, ‘stringr’\n",
            "\n",
            "\n",
            "Warning message in install.packages(\"tidyverse\"):\n",
            "“installation of package ‘textshaping’ had non-zero exit status”\n",
            "Warning message in install.packages(\"tidyverse\"):\n",
            "“installation of package ‘ragg’ had non-zero exit status”\n",
            "Warning message in install.packages(\"tidyverse\"):\n",
            "“installation of package ‘tidyverse’ had non-zero exit status”\n",
            "Installing package into ‘/usr/local/lib/R/site-library’\n",
            "(as ‘lib’ is unspecified)\n",
            "\n",
            "Installing package into ‘/usr/local/lib/R/site-library’\n",
            "(as ‘lib’ is unspecified)\n",
            "\n",
            "also installing the dependencies ‘SparseM’, ‘MatrixModels’, ‘minqa’, ‘nloptr’, ‘RcppEigen’, ‘lazyeval’, ‘later’, ‘carData’, ‘pbkrtest’, ‘quantreg’, ‘lme4’, ‘htmlwidgets’, ‘crosstalk’, ‘promises’, ‘estimability’, ‘numDeriv’, ‘mvtnorm’, ‘corrplot’, ‘viridis’, ‘car’, ‘DT’, ‘ellipse’, ‘emmeans’, ‘flashClust’, ‘leaps’, ‘multcompView’, ‘scatterplot3d’, ‘ggsci’, ‘cowplot’, ‘ggsignif’, ‘gridExtra’, ‘polynom’, ‘rstatix’, ‘plyr’, ‘Rcpp’, ‘abind’, ‘dendextend’, ‘FactoMineR’, ‘ggpubr’, ‘reshape2’, ‘ggrepel’\n",
            "\n",
            "\n"
          ]
        }
      ],
      "source": [
        "install.packages(\"tidyverse\")\n",
        "install.packages(\"cluster\")\n",
        "install.packages(\"factoextra\")"
      ]
    },
    {
      "cell_type": "code",
      "source": [
        "library(tidyverse)  # data manipulation\n",
        "library(cluster)    # clustering algorithms\n",
        "library(factoextra) # clustering algorithms & visualization"
      ],
      "metadata": {
        "colab": {
          "base_uri": "https://localhost:8080/"
        },
        "id": "mMoiUkcDrMk_",
        "outputId": "d86ddc46-3019-4903-e1ee-18b56a51254b"
      },
      "execution_count": 2,
      "outputs": [
        {
          "output_type": "stream",
          "name": "stderr",
          "text": [
            "── \u001b[1mAttaching packages\u001b[22m ─────────────────────────────────────── tidyverse 1.3.1 ──\n",
            "\n",
            "\u001b[32m✔\u001b[39m \u001b[34mggplot2\u001b[39m 3.4.2     \u001b[32m✔\u001b[39m \u001b[34mpurrr  \u001b[39m 1.0.1\n",
            "\u001b[32m✔\u001b[39m \u001b[34mtibble \u001b[39m 3.2.1     \u001b[32m✔\u001b[39m \u001b[34mdplyr  \u001b[39m 1.1.1\n",
            "\u001b[32m✔\u001b[39m \u001b[34mtidyr  \u001b[39m 1.3.0     \u001b[32m✔\u001b[39m \u001b[34mstringr\u001b[39m 1.5.0\n",
            "\u001b[32m✔\u001b[39m \u001b[34mreadr  \u001b[39m 2.1.4     \u001b[32m✔\u001b[39m \u001b[34mforcats\u001b[39m 1.0.0\n",
            "\n",
            "── \u001b[1mConflicts\u001b[22m ────────────────────────────────────────── tidyverse_conflicts() ──\n",
            "\u001b[31m✖\u001b[39m \u001b[34mdplyr\u001b[39m::\u001b[32mfilter()\u001b[39m masks \u001b[34mstats\u001b[39m::filter()\n",
            "\u001b[31m✖\u001b[39m \u001b[34mdplyr\u001b[39m::\u001b[32mlag()\u001b[39m    masks \u001b[34mstats\u001b[39m::lag()\n",
            "\n",
            "Welcome! Want to learn more? See two factoextra-related books at https://goo.gl/ve3WBa\n",
            "\n"
          ]
        }
      ]
    },
    {
      "cell_type": "code",
      "source": [
        "gag <- read.csv(\"Gag.csv\") #read file\n",
        "psgl1 <- read.csv(\"PSGL1.csv\") #read file"
      ],
      "metadata": {
        "id": "7EzjhtpjrbaI"
      },
      "execution_count": 18,
      "outputs": []
    },
    {
      "cell_type": "code",
      "source": [
        "gag <- na.omit(gag) #remove nas\n",
        "psgl1 <- na.omit(psgl1) # remove nas"
      ],
      "metadata": {
        "id": "3s6W_oLIuDY5"
      },
      "execution_count": 19,
      "outputs": []
    },
    {
      "cell_type": "code",
      "source": [
        "head(gag) #view first 6\n",
        "head(psgl1) # view first 6"
      ],
      "metadata": {
        "colab": {
          "base_uri": "https://localhost:8080/",
          "height": 555
        },
        "id": "1Df769pRuMlQ",
        "outputId": "32fa7aee-b000-4249-9a0c-9ec32650a3ec"
      },
      "execution_count": 20,
      "outputs": [
        {
          "output_type": "display_data",
          "data": {
            "text/html": [
              "<table class=\"dataframe\">\n",
              "<caption>A data.frame: 6 × 3</caption>\n",
              "<thead>\n",
              "\t<tr><th></th><th scope=col>x</th><th scope=col>y</th><th scope=col>z</th></tr>\n",
              "\t<tr><th></th><th scope=col>&lt;dbl&gt;</th><th scope=col>&lt;dbl&gt;</th><th scope=col>&lt;dbl&gt;</th></tr>\n",
              "</thead>\n",
              "<tbody>\n",
              "\t<tr><th scope=row>1</th><td>-13517.3</td><td>-1719.89</td><td>2174.15</td></tr>\n",
              "\t<tr><th scope=row>2</th><td>-13517.3</td><td>-1719.94</td><td>2174.51</td></tr>\n",
              "\t<tr><th scope=row>3</th><td>-13517.3</td><td>-1719.93</td><td>2174.86</td></tr>\n",
              "\t<tr><th scope=row>4</th><td>-13517.6</td><td>-1719.37</td><td>2176.31</td></tr>\n",
              "\t<tr><th scope=row>5</th><td>-13517.6</td><td>-1719.38</td><td>2176.71</td></tr>\n",
              "\t<tr><th scope=row>6</th><td>-13516.2</td><td>-1718.34</td><td>2176.79</td></tr>\n",
              "</tbody>\n",
              "</table>\n"
            ],
            "text/markdown": "\nA data.frame: 6 × 3\n\n| <!--/--> | x &lt;dbl&gt; | y &lt;dbl&gt; | z &lt;dbl&gt; |\n|---|---|---|---|\n| 1 | -13517.3 | -1719.89 | 2174.15 |\n| 2 | -13517.3 | -1719.94 | 2174.51 |\n| 3 | -13517.3 | -1719.93 | 2174.86 |\n| 4 | -13517.6 | -1719.37 | 2176.31 |\n| 5 | -13517.6 | -1719.38 | 2176.71 |\n| 6 | -13516.2 | -1718.34 | 2176.79 |\n\n",
            "text/latex": "A data.frame: 6 × 3\n\\begin{tabular}{r|lll}\n  & x & y & z\\\\\n  & <dbl> & <dbl> & <dbl>\\\\\n\\hline\n\t1 & -13517.3 & -1719.89 & 2174.15\\\\\n\t2 & -13517.3 & -1719.94 & 2174.51\\\\\n\t3 & -13517.3 & -1719.93 & 2174.86\\\\\n\t4 & -13517.6 & -1719.37 & 2176.31\\\\\n\t5 & -13517.6 & -1719.38 & 2176.71\\\\\n\t6 & -13516.2 & -1718.34 & 2176.79\\\\\n\\end{tabular}\n",
            "text/plain": [
              "  x        y        z      \n",
              "1 -13517.3 -1719.89 2174.15\n",
              "2 -13517.3 -1719.94 2174.51\n",
              "3 -13517.3 -1719.93 2174.86\n",
              "4 -13517.6 -1719.37 2176.31\n",
              "5 -13517.6 -1719.38 2176.71\n",
              "6 -13516.2 -1718.34 2176.79"
            ]
          },
          "metadata": {}
        },
        {
          "output_type": "display_data",
          "data": {
            "text/html": [
              "<table class=\"dataframe\">\n",
              "<caption>A data.frame: 6 × 3</caption>\n",
              "<thead>\n",
              "\t<tr><th></th><th scope=col>x</th><th scope=col>y</th><th scope=col>z</th></tr>\n",
              "\t<tr><th></th><th scope=col>&lt;dbl&gt;</th><th scope=col>&lt;dbl&gt;</th><th scope=col>&lt;dbl&gt;</th></tr>\n",
              "</thead>\n",
              "<tbody>\n",
              "\t<tr><th scope=row>1</th><td>-13529.1</td><td>-1762.97</td><td>2167.90</td></tr>\n",
              "\t<tr><th scope=row>2</th><td>-13529.4</td><td>-1762.49</td><td>2168.16</td></tr>\n",
              "\t<tr><th scope=row>3</th><td>-13529.3</td><td>-1762.52</td><td>2168.71</td></tr>\n",
              "\t<tr><th scope=row>4</th><td>-13529.1</td><td>-1762.91</td><td>2169.36</td></tr>\n",
              "\t<tr><th scope=row>5</th><td>-13529.3</td><td>-1762.46</td><td>2169.25</td></tr>\n",
              "\t<tr><th scope=row>6</th><td>-13529.1</td><td>-1762.88</td><td>2169.70</td></tr>\n",
              "</tbody>\n",
              "</table>\n"
            ],
            "text/markdown": "\nA data.frame: 6 × 3\n\n| <!--/--> | x &lt;dbl&gt; | y &lt;dbl&gt; | z &lt;dbl&gt; |\n|---|---|---|---|\n| 1 | -13529.1 | -1762.97 | 2167.90 |\n| 2 | -13529.4 | -1762.49 | 2168.16 |\n| 3 | -13529.3 | -1762.52 | 2168.71 |\n| 4 | -13529.1 | -1762.91 | 2169.36 |\n| 5 | -13529.3 | -1762.46 | 2169.25 |\n| 6 | -13529.1 | -1762.88 | 2169.70 |\n\n",
            "text/latex": "A data.frame: 6 × 3\n\\begin{tabular}{r|lll}\n  & x & y & z\\\\\n  & <dbl> & <dbl> & <dbl>\\\\\n\\hline\n\t1 & -13529.1 & -1762.97 & 2167.90\\\\\n\t2 & -13529.4 & -1762.49 & 2168.16\\\\\n\t3 & -13529.3 & -1762.52 & 2168.71\\\\\n\t4 & -13529.1 & -1762.91 & 2169.36\\\\\n\t5 & -13529.3 & -1762.46 & 2169.25\\\\\n\t6 & -13529.1 & -1762.88 & 2169.70\\\\\n\\end{tabular}\n",
            "text/plain": [
              "  x        y        z      \n",
              "1 -13529.1 -1762.97 2167.90\n",
              "2 -13529.4 -1762.49 2168.16\n",
              "3 -13529.3 -1762.52 2168.71\n",
              "4 -13529.1 -1762.91 2169.36\n",
              "5 -13529.3 -1762.46 2169.25\n",
              "6 -13529.1 -1762.88 2169.70"
            ]
          },
          "metadata": {}
        }
      ]
    },
    {
      "cell_type": "code",
      "source": [
        "head(tibble(gag$y)) # making a tibble of a dataframe column variable contents"
      ],
      "metadata": {
        "colab": {
          "base_uri": "https://localhost:8080/",
          "height": 303
        },
        "id": "oCgS1vupwyaM",
        "outputId": "297b5393-e914-4543-ecca-02281b7fb187"
      },
      "execution_count": 23,
      "outputs": [
        {
          "output_type": "display_data",
          "data": {
            "text/html": [
              "<table class=\"dataframe\">\n",
              "<caption>A tibble: 6 × 1</caption>\n",
              "<thead>\n",
              "\t<tr><th scope=col>gag$y</th></tr>\n",
              "\t<tr><th scope=col>&lt;dbl&gt;</th></tr>\n",
              "</thead>\n",
              "<tbody>\n",
              "\t<tr><td>-1719.89</td></tr>\n",
              "\t<tr><td>-1719.94</td></tr>\n",
              "\t<tr><td>-1719.93</td></tr>\n",
              "\t<tr><td>-1719.37</td></tr>\n",
              "\t<tr><td>-1719.38</td></tr>\n",
              "\t<tr><td>-1718.34</td></tr>\n",
              "</tbody>\n",
              "</table>\n"
            ],
            "text/markdown": "\nA tibble: 6 × 1\n\n| gag$y &lt;dbl&gt; |\n|---|\n| -1719.89 |\n| -1719.94 |\n| -1719.93 |\n| -1719.37 |\n| -1719.38 |\n| -1718.34 |\n\n",
            "text/latex": "A tibble: 6 × 1\n\\begin{tabular}{l}\n gag\\$y\\\\\n <dbl>\\\\\n\\hline\n\t -1719.89\\\\\n\t -1719.94\\\\\n\t -1719.93\\\\\n\t -1719.37\\\\\n\t -1719.38\\\\\n\t -1718.34\\\\\n\\end{tabular}\n",
            "text/plain": [
              "  gag$y   \n",
              "1 -1719.89\n",
              "2 -1719.94\n",
              "3 -1719.93\n",
              "4 -1719.37\n",
              "5 -1719.38\n",
              "6 -1718.34"
            ]
          },
          "metadata": {}
        }
      ]
    },
    {
      "cell_type": "code",
      "source": [
        "sum = 0 #initialize sum variable\n",
        "distance <- function(df1, df2){ # function that takes in two dataframes\n",
        "  for (i in 1:3){ # for i in 1:3 because there are three variables, x,y,z\n",
        "    sum = sum + (df1[i]-df2[i])^2 # sums all individual dimensional differences squared\n",
        "  }\n",
        "  sqrt(sum) #sqrt to find the final value for euclidean distance\n",
        "}"
      ],
      "metadata": {
        "id": "8BN2KtaFyDEd"
      },
      "execution_count": 44,
      "outputs": []
    },
    {
      "cell_type": "code",
      "source": [
        "df1 <- tibble(a = c(1,2,3,4,5),\n",
        "              b = c(2,4,6,8,10),\n",
        "              c = c(1,3,5,7,9)) # test dataframe 1\n",
        "df2 <- tibble(a = c(2,3,4,5,6),\n",
        "              b = c(3,5,7,9,10),\n",
        "              c = c(4,0,5,3,8)) # test dataframe 2\n",
        "\n",
        "df1 # allows you to see the table contents of df1\n",
        "df2 # allows you to see the table contents of df2"
      ],
      "metadata": {
        "colab": {
          "base_uri": "https://localhost:8080/",
          "height": 492
        },
        "id": "KMC7OhDHya7I",
        "outputId": "a6dab735-c2e0-46bb-9ba0-620d43e93833"
      },
      "execution_count": 33,
      "outputs": [
        {
          "output_type": "display_data",
          "data": {
            "text/html": [
              "<table class=\"dataframe\">\n",
              "<caption>A tibble: 5 × 3</caption>\n",
              "<thead>\n",
              "\t<tr><th scope=col>a</th><th scope=col>b</th><th scope=col>c</th></tr>\n",
              "\t<tr><th scope=col>&lt;dbl&gt;</th><th scope=col>&lt;dbl&gt;</th><th scope=col>&lt;dbl&gt;</th></tr>\n",
              "</thead>\n",
              "<tbody>\n",
              "\t<tr><td>1</td><td> 2</td><td>1</td></tr>\n",
              "\t<tr><td>2</td><td> 4</td><td>3</td></tr>\n",
              "\t<tr><td>3</td><td> 6</td><td>5</td></tr>\n",
              "\t<tr><td>4</td><td> 8</td><td>7</td></tr>\n",
              "\t<tr><td>5</td><td>10</td><td>9</td></tr>\n",
              "</tbody>\n",
              "</table>\n"
            ],
            "text/markdown": "\nA tibble: 5 × 3\n\n| a &lt;dbl&gt; | b &lt;dbl&gt; | c &lt;dbl&gt; |\n|---|---|---|\n| 1 |  2 | 1 |\n| 2 |  4 | 3 |\n| 3 |  6 | 5 |\n| 4 |  8 | 7 |\n| 5 | 10 | 9 |\n\n",
            "text/latex": "A tibble: 5 × 3\n\\begin{tabular}{lll}\n a & b & c\\\\\n <dbl> & <dbl> & <dbl>\\\\\n\\hline\n\t 1 &  2 & 1\\\\\n\t 2 &  4 & 3\\\\\n\t 3 &  6 & 5\\\\\n\t 4 &  8 & 7\\\\\n\t 5 & 10 & 9\\\\\n\\end{tabular}\n",
            "text/plain": [
              "  a b  c\n",
              "1 1  2 1\n",
              "2 2  4 3\n",
              "3 3  6 5\n",
              "4 4  8 7\n",
              "5 5 10 9"
            ]
          },
          "metadata": {}
        },
        {
          "output_type": "display_data",
          "data": {
            "text/html": [
              "<table class=\"dataframe\">\n",
              "<caption>A tibble: 5 × 3</caption>\n",
              "<thead>\n",
              "\t<tr><th scope=col>a</th><th scope=col>b</th><th scope=col>c</th></tr>\n",
              "\t<tr><th scope=col>&lt;dbl&gt;</th><th scope=col>&lt;dbl&gt;</th><th scope=col>&lt;dbl&gt;</th></tr>\n",
              "</thead>\n",
              "<tbody>\n",
              "\t<tr><td>2</td><td> 3</td><td>4</td></tr>\n",
              "\t<tr><td>3</td><td> 5</td><td>0</td></tr>\n",
              "\t<tr><td>4</td><td> 7</td><td>5</td></tr>\n",
              "\t<tr><td>5</td><td> 9</td><td>3</td></tr>\n",
              "\t<tr><td>6</td><td>10</td><td>8</td></tr>\n",
              "</tbody>\n",
              "</table>\n"
            ],
            "text/markdown": "\nA tibble: 5 × 3\n\n| a &lt;dbl&gt; | b &lt;dbl&gt; | c &lt;dbl&gt; |\n|---|---|---|\n| 2 |  3 | 4 |\n| 3 |  5 | 0 |\n| 4 |  7 | 5 |\n| 5 |  9 | 3 |\n| 6 | 10 | 8 |\n\n",
            "text/latex": "A tibble: 5 × 3\n\\begin{tabular}{lll}\n a & b & c\\\\\n <dbl> & <dbl> & <dbl>\\\\\n\\hline\n\t 2 &  3 & 4\\\\\n\t 3 &  5 & 0\\\\\n\t 4 &  7 & 5\\\\\n\t 5 &  9 & 3\\\\\n\t 6 & 10 & 8\\\\\n\\end{tabular}\n",
            "text/plain": [
              "  a b  c\n",
              "1 2  3 4\n",
              "2 3  5 0\n",
              "3 4  7 5\n",
              "4 5  9 3\n",
              "5 6 10 8"
            ]
          },
          "metadata": {}
        }
      ]
    },
    {
      "cell_type": "code",
      "source": [
        "distance(df1, df2) #tests whether the distance function as a 1:1 is correct"
      ],
      "metadata": {
        "colab": {
          "base_uri": "https://localhost:8080/",
          "height": 289
        },
        "id": "YWVFztxly30O",
        "outputId": "4e39d71c-091a-4f9a-91df-e14cbde0b4e2"
      },
      "execution_count": 45,
      "outputs": [
        {
          "output_type": "display_data",
          "data": {
            "text/html": [
              "<table class=\"dataframe\">\n",
              "<caption>A data.frame: 5 × 1</caption>\n",
              "<thead>\n",
              "\t<tr><th scope=col>a</th></tr>\n",
              "\t<tr><th scope=col>&lt;dbl&gt;</th></tr>\n",
              "</thead>\n",
              "<tbody>\n",
              "\t<tr><td>3.316625</td></tr>\n",
              "\t<tr><td>3.316625</td></tr>\n",
              "\t<tr><td>1.414214</td></tr>\n",
              "\t<tr><td>4.242641</td></tr>\n",
              "\t<tr><td>1.414214</td></tr>\n",
              "</tbody>\n",
              "</table>\n"
            ],
            "text/markdown": "\nA data.frame: 5 × 1\n\n| a &lt;dbl&gt; |\n|---|\n| 3.316625 |\n| 3.316625 |\n| 1.414214 |\n| 4.242641 |\n| 1.414214 |\n\n",
            "text/latex": "A data.frame: 5 × 1\n\\begin{tabular}{l}\n a\\\\\n <dbl>\\\\\n\\hline\n\t 3.316625\\\\\n\t 3.316625\\\\\n\t 1.414214\\\\\n\t 4.242641\\\\\n\t 1.414214\\\\\n\\end{tabular}\n",
            "text/plain": [
              "  a       \n",
              "1 3.316625\n",
              "2 3.316625\n",
              "3 1.414214\n",
              "4 4.242641\n",
              "5 1.414214"
            ]
          },
          "metadata": {}
        }
      ]
    },
    {
      "cell_type": "code",
      "source": [
        "# attempt to compute a distance between each row in df1 against every row of df2\n",
        "val = 0 # initialize val\n",
        "euclid_dist <- function(df1, df2){ #takes two dataframes\n",
        "  for (i in 1:nrow(df1)){ # traverses all the row coordinates in df1\n",
        "    for (j in 1:nrow(df2)){ # traverses each row coordinate of df2\n",
        "      sample1 <- slice(df1, i) # picks up only the row of interest in df1 as a tibble\n",
        "      sample2 <- slice(df2, j) # picks up only the row of interest in df2 as a tibble\n",
        "      for (i in 1:3){ # for each of the the 3 variables x,y,z,\n",
        "        val = val + (sample1[i]-sample2[i])^2 # take the slices of the rows and finds the distance\n",
        "      }\n",
        "    }\n",
        "  }\n",
        "  sqrt(val) # my logic seems to fall apart here because when i test this, i want a table of 25 rows,\n",
        "} # where row 1 in df1 has a distance with row 1,2,3,4, and 5 of df2, and so forth. where did i go wrong?"
      ],
      "metadata": {
        "id": "B0WsPkGS0LKY"
      },
      "execution_count": 59,
      "outputs": []
    },
    {
      "cell_type": "code",
      "source": [
        "slice(df1, 3) # demonstrates how a slice just takes your data from and row number and outputs a table"
      ],
      "metadata": {
        "colab": {
          "base_uri": "https://localhost:8080/",
          "height": 129
        },
        "id": "ihcmSLzL4TwB",
        "outputId": "a172d1be-c3c7-4840-a401-334849f0c4b2"
      },
      "execution_count": 41,
      "outputs": [
        {
          "output_type": "display_data",
          "data": {
            "text/html": [
              "<table class=\"dataframe\">\n",
              "<caption>A tibble: 1 × 3</caption>\n",
              "<thead>\n",
              "\t<tr><th scope=col>a</th><th scope=col>b</th><th scope=col>c</th></tr>\n",
              "\t<tr><th scope=col>&lt;dbl&gt;</th><th scope=col>&lt;dbl&gt;</th><th scope=col>&lt;dbl&gt;</th></tr>\n",
              "</thead>\n",
              "<tbody>\n",
              "\t<tr><td>3</td><td>6</td><td>5</td></tr>\n",
              "</tbody>\n",
              "</table>\n"
            ],
            "text/markdown": "\nA tibble: 1 × 3\n\n| a &lt;dbl&gt; | b &lt;dbl&gt; | c &lt;dbl&gt; |\n|---|---|---|\n| 3 | 6 | 5 |\n\n",
            "text/latex": "A tibble: 1 × 3\n\\begin{tabular}{lll}\n a & b & c\\\\\n <dbl> & <dbl> & <dbl>\\\\\n\\hline\n\t 3 & 6 & 5\\\\\n\\end{tabular}\n",
            "text/plain": [
              "  a b c\n",
              "1 3 6 5"
            ]
          },
          "metadata": {}
        }
      ]
    },
    {
      "cell_type": "code",
      "source": [
        "euclid_dist(df1, df2) # testing my incorrect function"
      ],
      "metadata": {
        "id": "-LU3dm7v0cRz"
      },
      "execution_count": 58,
      "outputs": []
    },
    {
      "cell_type": "markdown",
      "source": [
        "next steps: once I get the bug out of my euclid_dist() function\n",
        "\n",
        "- assign each calculation to the coordinates they computed the distance between\n",
        "- group the distances by their \"root\", aka the point in df1 that each distance in df2 is computed from\n",
        "- use arrange() and head(10) to find the smallest euclidean distances for each root value\n",
        "- head() value is essentially the k of k-NN in this scenario\n",
        "- find the average of those ten smallest distances from each df1 root point\n",
        "- plot the value of the distance any point on a spherical radius of the root centroid against the root centroid coordinates\n",
        "- assess pearson correlation."
      ],
      "metadata": {
        "id": "0F4rziWg74Bu"
      }
    }
  ]
}